{
 "cells": [
  {
   "cell_type": "markdown",
   "id": "1971db0e",
   "metadata": {},
   "source": [
    "### Q1\n",
    "List the basic data types in python and give one example each."
   ]
  },
  {
   "cell_type": "code",
   "execution_count": 9,
   "id": "6c25a697",
   "metadata": {},
   "outputs": [],
   "source": [
    "## integar \n",
    "a = 24\n",
    "\n",
    "## float\n",
    "b = 2.4\n",
    "\n",
    "## boolean \n",
    "a > b\n",
    "\n",
    "## string\n",
    "z = \"Text\""
   ]
  },
  {
   "cell_type": "markdown",
   "id": "4a2be5ba",
   "metadata": {},
   "source": [
    "### Q2\n",
    "Change the variable x = 4539.85 to :\n",
    "\n",
    "(i) a string and assign it to a new variable y,\n",
    "\n",
    "(ii) an integer and assign it to a new variable z\n",
    "\n",
    "Print out the type of y and z."
   ]
  },
  {
   "cell_type": "code",
   "execution_count": 20,
   "id": "4f69aaca",
   "metadata": {},
   "outputs": [
    {
     "name": "stdout",
     "output_type": "stream",
     "text": [
      "<class 'str'>\n",
      "<class 'int'>\n"
     ]
    }
   ],
   "source": [
    "## (i)\n",
    "x = 4539.85\n",
    "y = str(x)\n",
    "z = int(x)\n",
    "\n",
    "print (type(y))\n",
    "\n",
    "print (type (z))"
   ]
  },
  {
   "cell_type": "markdown",
   "id": "81a1251c",
   "metadata": {},
   "source": [
    "### Q3\n",
    "\n",
    "What data type would you use to store\n",
    "\n",
    "a. The price of car?\n",
    "\n",
    "float\n",
    "\n",
    "b. The age of a person\n",
    "\n",
    "integar\n",
    "\n",
    "c. car plate number: plateNumber = \"AV01-AFP\"?\n",
    "\n",
    "string\n",
    "\n",
    "d. The price of fuel\n",
    "\n",
    "float\n",
    "\n",
    "e. The number of students in the class\n",
    "\n",
    "integar\n",
    "\n",
    "f. The weight of a person\n",
    "\n",
    "float\n",
    "\n",
    "g. Check whether two figures are equal\n",
    "\n",
    "boolean\n",
    "\n",
    "i. The name of a  school\n",
    "\n",
    "string\n",
    "\n",
    "j. The average result of the overall score of a student\n",
    "\n",
    "float\n",
    "\n",
    "k. The total number of vote cast\n",
    "\n",
    "integar\n"
   ]
  },
  {
   "cell_type": "markdown",
   "id": "f0694362",
   "metadata": {},
   "source": [
    "### Q4\n",
    "**Thomas Partey is arguably the best player in the Black Stars. He is a great addition to the team**\n",
    "\n",
    "Split the statement above into **two statement_1** and **statement_2** such that statement_1 will be 'Thomas Partey is arguably the best player in the Black Stars' and statement_2 will be 'He is a great addition to the team'\n",
    "\n",
    "Statement:\n",
    "\n",
    "- **What is the length of statment 1?**\n",
    "-**What is the length of statment 2?**\n",
    "-**Is the length of statement 1 greater than statement 2**\n"
   ]
  },
  {
   "cell_type": "code",
   "execution_count": 39,
   "id": "41eefcf6",
   "metadata": {},
   "outputs": [
    {
     "name": "stdout",
     "output_type": "stream",
     "text": [
      "Thomas Partey is arguably the best player in the Black Stars\n",
      "He is a great addition to the team\n"
     ]
    }
   ],
   "source": [
    "statement = \"Thomas Partey is arguably the best player in the Black Stars. He is a great addition to the team\"\n",
    "\n",
    "statement_1, statement_2 = statement.split('. ')\n",
    "\n",
    "print (statement_1)\n",
    "print (statement_2)"
   ]
  },
  {
   "cell_type": "code",
   "execution_count": 43,
   "id": "5d8dd430",
   "metadata": {},
   "outputs": [
    {
     "data": {
      "text/plain": [
       "60"
      ]
     },
     "execution_count": 43,
     "metadata": {},
     "output_type": "execute_result"
    }
   ],
   "source": [
    "## What is the length of statment 1?\n",
    "len (statement_1)"
   ]
  },
  {
   "cell_type": "code",
   "execution_count": 44,
   "id": "bb0762f3",
   "metadata": {},
   "outputs": [
    {
     "data": {
      "text/plain": [
       "35"
      ]
     },
     "execution_count": 44,
     "metadata": {},
     "output_type": "execute_result"
    }
   ],
   "source": [
    "## What is the length of statment 2?\n",
    "len (statement_2)"
   ]
  },
  {
   "cell_type": "code",
   "execution_count": 45,
   "id": "388d137b",
   "metadata": {},
   "outputs": [
    {
     "data": {
      "text/plain": [
       "True"
      ]
     },
     "execution_count": 45,
     "metadata": {},
     "output_type": "execute_result"
    }
   ],
   "source": [
    "## Is the length of statement 1 greater than statement 2?\n",
    "len(statement_1) > len(statement_2)"
   ]
  },
  {
   "cell_type": "markdown",
   "id": "ceb46447",
   "metadata": {},
   "source": [
    "### Q5\n",
    "What values does python use to represent **True** and **False** respectively?\n",
    "\n",
    "True and False"
   ]
  },
  {
   "cell_type": "markdown",
   "id": "e4cc9b15",
   "metadata": {},
   "source": [
    "### Q6\n",
    "Write a code to evaluate if the following statments are True or False.\n",
    "\n",
    "1. 78 is greater than 46 and less than 30 which is an odd number.\n",
    "\n",
    "2. 8-2 is an even number or 8 is a is an odd number.\n",
    "\n",
    "3. The number of characters in the word 'boostrap' is 7 and that of 'sample' is 6."
   ]
  },
  {
   "cell_type": "code",
   "execution_count": 58,
   "id": "45e3fc38",
   "metadata": {},
   "outputs": [
    {
     "data": {
      "text/plain": [
       "False"
      ]
     },
     "execution_count": 58,
     "metadata": {},
     "output_type": "execute_result"
    }
   ],
   "source": [
    "##1. 78 is greater than 46 and less than 30 which is an odd number.\n",
    "30 % 2==1 > 78 > 46 "
   ]
  },
  {
   "cell_type": "code",
   "execution_count": 64,
   "id": "a0aa0de4",
   "metadata": {},
   "outputs": [
    {
     "data": {
      "text/plain": [
       "True"
      ]
     },
     "execution_count": 64,
     "metadata": {},
     "output_type": "execute_result"
    }
   ],
   "source": [
    "##2. 8-2 is an even number or 8 is a is an odd number.\n",
    "(8-2) % 2 == 0 or 8 % 2 == 1"
   ]
  },
  {
   "cell_type": "code",
   "execution_count": 69,
   "id": "1f18c58e",
   "metadata": {},
   "outputs": [
    {
     "data": {
      "text/plain": [
       "False"
      ]
     },
     "execution_count": 69,
     "metadata": {},
     "output_type": "execute_result"
    }
   ],
   "source": [
    "##3. The number of characters in the word 'boostrap' is 7 and that of 'sample' is 6.\n",
    "len (\"boostrap\")==7 and len(\"sample\")==6"
   ]
  },
  {
   "cell_type": "markdown",
   "id": "bc13f9fc",
   "metadata": {},
   "source": [
    "### Q7\n",
    "Given the following python code,\n",
    "\n",
    "`word='Hello, How are you?'`\n",
    "\n",
    "Write Python code to return the following\n",
    "\n",
    "- How\n",
    "- How are you\n",
    "- are\n",
    "- ?\n",
    "- Hello, How are you\n",
    "\n",
    "\n",
    " "
   ]
  },
  {
   "cell_type": "code",
   "execution_count": 75,
   "id": "fab9c9a4",
   "metadata": {},
   "outputs": [
    {
     "data": {
      "text/plain": [
       "['Hello,', 'How', 'are', 'you?']"
      ]
     },
     "execution_count": 75,
     "metadata": {},
     "output_type": "execute_result"
    }
   ],
   "source": [
    "word='Hello, How are you?'\n",
    "words=word.split()\n",
    "words"
   ]
  },
  {
   "cell_type": "code",
   "execution_count": 92,
   "id": "a0523df9",
   "metadata": {
    "scrolled": true
   },
   "outputs": [
    {
     "name": "stdout",
     "output_type": "stream",
     "text": [
      "How\n",
      "How\n"
     ]
    }
   ],
   "source": [
    "## Write Python code to return the following \"How\"\n",
    "print (words[1])\n",
    "print (word[7:10])"
   ]
  },
  {
   "cell_type": "code",
   "execution_count": 90,
   "id": "c2c647fd",
   "metadata": {},
   "outputs": [
    {
     "name": "stdout",
     "output_type": "stream",
     "text": [
      "How are you\n"
     ]
    }
   ],
   "source": [
    "## Write Python code to return the following \"How are you\"\n",
    "print (word[7:-1])"
   ]
  },
  {
   "cell_type": "code",
   "execution_count": 93,
   "id": "6639b730",
   "metadata": {},
   "outputs": [
    {
     "name": "stdout",
     "output_type": "stream",
     "text": [
      "are\n",
      "are\n"
     ]
    }
   ],
   "source": [
    "## Write Python code to return the following \"are\"\n",
    "print (words[2])\n",
    "print (word[11:14])"
   ]
  },
  {
   "cell_type": "code",
   "execution_count": 86,
   "id": "37eb390f",
   "metadata": {},
   "outputs": [
    {
     "name": "stdout",
     "output_type": "stream",
     "text": [
      "?\n"
     ]
    }
   ],
   "source": [
    "## Write Python code to return the following \"?\"\n",
    "print(word[-1])"
   ]
  },
  {
   "cell_type": "code",
   "execution_count": 87,
   "id": "178a5464",
   "metadata": {},
   "outputs": [
    {
     "name": "stdout",
     "output_type": "stream",
     "text": [
      "Hello, How are you\n"
     ]
    }
   ],
   "source": [
    "## Write Python code to return the following \"Hello, How are you\"\n",
    "print (word[:-1])"
   ]
  },
  {
   "cell_type": "markdown",
   "id": "e4167de5",
   "metadata": {},
   "source": [
    "### Q8\n",
    "Given the following python code,\n",
    "\n",
    "`sentence = \"I am very excited\"`\n",
    "\n",
    "Write Python code to return \n",
    "- Convert sentence to upper case\n",
    "- Convert sentence to lower case\n",
    "- Convert sentence to title case\n",
    "- Convert sentence to list of strings\n",
    " "
   ]
  },
  {
   "cell_type": "code",
   "execution_count": 96,
   "id": "f03508b7",
   "metadata": {},
   "outputs": [
    {
     "data": {
      "text/plain": [
       "'I AM VERY EXCITED'"
      ]
     },
     "execution_count": 96,
     "metadata": {},
     "output_type": "execute_result"
    }
   ],
   "source": [
    "##Convert sentence to upper case\n",
    "sentence = \"I am very excited\"\n",
    "sentence.upper()"
   ]
  },
  {
   "cell_type": "code",
   "execution_count": 97,
   "id": "68ab7ab0",
   "metadata": {},
   "outputs": [
    {
     "data": {
      "text/plain": [
       "'i am very excited'"
      ]
     },
     "execution_count": 97,
     "metadata": {},
     "output_type": "execute_result"
    }
   ],
   "source": [
    "##Convert sentence to lower case\n",
    "sentence.lower()"
   ]
  },
  {
   "cell_type": "code",
   "execution_count": 98,
   "id": "45f9f8f1",
   "metadata": {},
   "outputs": [
    {
     "data": {
      "text/plain": [
       "'I Am Very Excited'"
      ]
     },
     "execution_count": 98,
     "metadata": {},
     "output_type": "execute_result"
    }
   ],
   "source": [
    "##Convert sentence to title case\n",
    "sentence.title()"
   ]
  },
  {
   "cell_type": "code",
   "execution_count": 99,
   "id": "65212c24",
   "metadata": {},
   "outputs": [
    {
     "data": {
      "text/plain": [
       "['I', 'am', 'very', 'excited']"
      ]
     },
     "execution_count": 99,
     "metadata": {},
     "output_type": "execute_result"
    }
   ],
   "source": [
    "##Convert sentence to list of strings\n",
    "sentence.split()"
   ]
  },
  {
   "cell_type": "markdown",
   "id": "4faf0134",
   "metadata": {},
   "source": [
    "### Q9\n",
    "`word = 'OneThirtyEight'`\n",
    "\n",
    "Using Python code extract the following from the variable word:\n",
    "- One\n",
    "- Thirty\n",
    "- Eight\n",
    "- OneThirty\n",
    "- ThirtyEight\n",
    "- ONETHIRTYEIGHT"
   ]
  },
  {
   "cell_type": "code",
   "execution_count": 107,
   "id": "faf44976",
   "metadata": {},
   "outputs": [
    {
     "name": "stdout",
     "output_type": "stream",
     "text": [
      "One\n",
      "Thirty\n",
      "Eight\n",
      "OneThirty\n",
      "ThirtyEight\n",
      "ONETHIRTYEIGHT\n"
     ]
    }
   ],
   "source": [
    "word = 'OneThirtyEight'\n",
    "\n",
    "##Using Python code extract the following from the variable word: \"One\"\n",
    "print(word[:3])\n",
    "\n",
    "##Using Python code extract the following from the variable word: \"Thirty\"\n",
    "print(word[3:9])\n",
    "\n",
    "##Using Python code extract the following from the variable word: \"Eight\"\n",
    "print(word[9:14])\n",
    "\n",
    "##Using Python code extract the following from the variable word: \"OneThirty\"\n",
    "print(word[:9])\n",
    "\n",
    "##Using Python code extract the following from the variable word: \"ThirtyEight\"\n",
    "print(word[3:14])\n",
    "\n",
    "##Using Python code extract the following from the variable word: \"ONETHIRTYEIGHT\"\n",
    "print(word.upper())"
   ]
  },
  {
   "cell_type": "markdown",
   "id": "2a4eea1f",
   "metadata": {},
   "source": [
    "\n",
    "### Q10\n",
    "Turn Ault'Kelly into a string and assign it to a variable  called name."
   ]
  },
  {
   "cell_type": "code",
   "execution_count": 110,
   "id": "aa2f0a08",
   "metadata": {},
   "outputs": [
    {
     "data": {
      "text/plain": [
       "\"Ault'Kelly\""
      ]
     },
     "execution_count": 110,
     "metadata": {},
     "output_type": "execute_result"
    }
   ],
   "source": [
    "name=\"Ault'Kelly\"\n",
    "name"
   ]
  }
 ],
 "metadata": {
  "kernelspec": {
   "display_name": "Python 3 (ipykernel)",
   "language": "python",
   "name": "python3"
  },
  "language_info": {
   "codemirror_mode": {
    "name": "ipython",
    "version": 3
   },
   "file_extension": ".py",
   "mimetype": "text/x-python",
   "name": "python",
   "nbconvert_exporter": "python",
   "pygments_lexer": "ipython3",
   "version": "3.9.13"
  }
 },
 "nbformat": 4,
 "nbformat_minor": 5
}
